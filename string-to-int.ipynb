{
 "cells": [
  {
   "cell_type": "code",
   "execution_count": 1,
   "metadata": {},
   "outputs": [
    {
     "name": "stdout",
     "output_type": "stream",
     "text": [
      "CSV file updated successfully and saved as: C:\\Users\\mahmu\\Downloads\\Updated_Diabetes_Data_Bangladesh.csv\n"
     ]
    }
   ],
   "source": [
    "import csv\n",
    "\n",
    "def convert_yes_no_to_binary(input_csv_path, output_csv_path):\n",
    "    try:\n",
    "        # Read the CSV file\n",
    "        with open(input_csv_path, mode='r', newline='', encoding='utf-8') as file:\n",
    "            reader = csv.reader(file)\n",
    "            rows = list(reader)  # Load all rows into memory\n",
    "            \n",
    "        # Update the data\n",
    "        header, data = rows[0], rows[1:]\n",
    "        for row in data:\n",
    "            for i in range(len(row)):\n",
    "                if row[i].strip().lower() == \"yes\":\n",
    "                    row[i] = \"1\"\n",
    "                elif row[i].strip().lower() == \"no\":\n",
    "                    row[i] = \"0\"\n",
    "        \n",
    "        # Write the updated data to a new CSV file\n",
    "        with open(output_csv_path, mode='w', newline='', encoding='utf-8') as file:\n",
    "            writer = csv.writer(file)\n",
    "            writer.writerow(header)\n",
    "            writer.writerows(data)\n",
    "        \n",
    "        print(f\"CSV file updated successfully and saved as: {output_csv_path}\")\n",
    "    except Exception as e:\n",
    "        print(f\"An error occurred: {e}\")\n",
    "\n",
    "# File paths\n",
    "input_csv_path = r\"C:\\Users\\mahmu\\Downloads\\Diabetes_Data_Bangladesh.csv\"  # Your input file path\n",
    "output_csv_path = r\"C:\\Users\\mahmu\\Downloads\\Updated_Diabetes_Data_Bangladesh.csv\"  # Desired output file path\n",
    "\n",
    "# Convert the data\n",
    "convert_yes_no_to_binary(input_csv_path, output_csv_path)\n"
   ]
  }
 ],
 "metadata": {
  "kernelspec": {
   "display_name": "Python 3",
   "language": "python",
   "name": "python3"
  },
  "language_info": {
   "codemirror_mode": {
    "name": "ipython",
    "version": 3
   },
   "file_extension": ".py",
   "mimetype": "text/x-python",
   "name": "python",
   "nbconvert_exporter": "python",
   "pygments_lexer": "ipython3",
   "version": "3.11.9"
  }
 },
 "nbformat": 4,
 "nbformat_minor": 2
}
